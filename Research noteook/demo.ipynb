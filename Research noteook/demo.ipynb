{
 "cells": [
  {
   "cell_type": "code",
   "execution_count": 1,
   "id": "b31131e2",
   "metadata": {},
   "outputs": [],
   "source": [
    "import numpy as np"
   ]
  },
  {
   "cell_type": "code",
   "execution_count": 2,
   "id": "c2f4633f",
   "metadata": {},
   "outputs": [
    {
     "ename": "ModuleNotFoundError",
     "evalue": "No module named 'utils'",
     "output_type": "error",
     "traceback": [
      "\u001b[1;31m---------------------------------------------------------------------------\u001b[0m",
      "\u001b[1;31mModuleNotFoundError\u001b[0m                       Traceback (most recent call last)",
      "Cell \u001b[1;32mIn [2], line 2\u001b[0m\n\u001b[0;32m      1\u001b[0m \u001b[38;5;28;01mfrom\u001b[39;00m \u001b[38;5;21;01mfileinput\u001b[39;00m \u001b[38;5;28;01mimport\u001b[39;00m filename\n\u001b[1;32m----> 2\u001b[0m \u001b[38;5;28;01mfrom\u001b[39;00m \u001b[38;5;21;01mutils\u001b[39;00m\u001b[38;5;21;01m.\u001b[39;00m\u001b[38;5;21;01mmodel\u001b[39;00m \u001b[38;5;28;01mimport\u001b[39;00m Perceptron\n\u001b[0;32m      3\u001b[0m \u001b[38;5;28;01mfrom\u001b[39;00m \u001b[38;5;21;01mutils\u001b[39;00m\u001b[38;5;21;01m.\u001b[39;00m\u001b[38;5;21;01mall_utils\u001b[39;00m \u001b[38;5;28;01mimport\u001b[39;00m prepare_data, save_model, save_plot\n\u001b[0;32m      4\u001b[0m \u001b[38;5;28;01mimport\u001b[39;00m \u001b[38;5;21;01mpandas\u001b[39;00m \u001b[38;5;28;01mas\u001b[39;00m \u001b[38;5;21;01mpd\u001b[39;00m\n",
      "\u001b[1;31mModuleNotFoundError\u001b[0m: No module named 'utils'"
     ]
    }
   ],
   "source": [
    "from fileinput import filename\n",
    "from utils.model import Perceptron\n",
    "from utils.all_utils import prepare_data, save_model, save_plot\n",
    "import pandas as pd\n",
    "import numpy as np\n",
    "\n",
    "def main(data, eta, epochs, filename, plotFileName):\n",
    "\n",
    "    df = pd.DataFrame(data)\n",
    "    print(df)\n",
    "    X,y = prepare_data(df)\n",
    "\n",
    "    model = Perceptron(eta=eta, epochs=epochs)\n",
    "    model.fit(X, y)\n",
    "\n",
    "    _=model.total_loss()  # dummy variable\n",
    "\n",
    "    save_model(model, filename=filename)\n",
    "    save_plot(df, plotFileName, model)\n",
    "\n",
    "OR = {\n",
    "\"x1\":[0,0,1,1],\n",
    "\"x2\":[0,1,0,1],\n",
    "\"y\":[0,1,1,1],\n",
    "}\n",
    "\n",
    "ETA= 0.3 #0 and 1\n",
    "EPOCHS =10\n",
    "\n",
    "main(data=OR, eta=ETA, epochs=EPOCHS, filename=\"or.model\", plotFileName=\"or.png\")"
   ]
  },
  {
   "cell_type": "code",
   "execution_count": null,
   "id": "7d18ed8c",
   "metadata": {},
   "outputs": [],
   "source": []
  }
 ],
 "metadata": {
  "kernelspec": {
   "display_name": "Python 3.9.7 ('OneNueron')",
   "language": "python",
   "name": "python3"
  },
  "language_info": {
   "codemirror_mode": {
    "name": "ipython",
    "version": 3
   },
   "file_extension": ".py",
   "mimetype": "text/x-python",
   "name": "python",
   "nbconvert_exporter": "python",
   "pygments_lexer": "ipython3",
   "version": "3.9.7"
  },
  "vscode": {
   "interpreter": {
    "hash": "0c7733c5ab9997a50ad07712b1a9f283128c7e0c8b4e1131c67a3ea1dff1894e"
   }
  }
 },
 "nbformat": 4,
 "nbformat_minor": 5
}
